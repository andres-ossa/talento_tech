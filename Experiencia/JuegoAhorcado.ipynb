{
  "nbformat": 4,
  "nbformat_minor": 0,
  "metadata": {
    "colab": {
      "provenance": []
    },
    "kernelspec": {
      "name": "python3",
      "display_name": "Python 3"
    },
    "language_info": {
      "name": "python"
    }
  },
  "cells": [
    {
      "cell_type": "code",
      "execution_count": 1,
      "metadata": {
        "colab": {
          "base_uri": "https://localhost:8080/"
        },
        "id": "IX9N9BcqLFfO",
        "outputId": "12871ad1-5dd0-4dee-f58b-48187abd17ac"
      },
      "outputs": [
        {
          "output_type": "stream",
          "name": "stdout",
          "text": [
            "¡Bienvenido al juego del Ahorcado!\n",
            "_ _ _ _ _ _ _ _ _ _ _ _ \n",
            "Adivina una letra: a\n",
            "¡Bien hecho!\n",
            "_ _ _ _ _ a _ a _ _ _ _ \n",
            "Adivina una letra: e\n",
            "Letra incorrecta. Te quedan 5 intentos.\n",
            "_ _ _ _ _ a _ a _ _ _ _ \n",
            "Adivina una letra: i\n",
            "¡Bien hecho!\n",
            "_ _ _ _ _ a _ a _ i _ _ \n",
            "Adivina una letra: o\n",
            "¡Bien hecho!\n",
            "_ _ o _ _ a _ a _ i o _ \n",
            "Adivina una letra: u\n",
            "Letra incorrecta. Te quedan 4 intentos.\n",
            "_ _ o _ _ a _ a _ i o _ \n",
            "Adivina una letra: programacion\n",
            "¡Bien hecho!\n",
            "_ _ o _ _ a _ a _ i o _ \n",
            "Adivina una letra: p\n",
            "¡Bien hecho!\n",
            "p _ o _ _ a _ a _ i o _ \n",
            "Adivina una letra: r\n",
            "¡Bien hecho!\n",
            "p r o _ r a _ a _ i o _ \n",
            "Adivina una letra: g\n",
            "¡Bien hecho!\n",
            "p r o g r a _ a _ i o _ \n",
            "Adivina una letra: m\n",
            "¡Bien hecho!\n",
            "p r o g r a m a _ i o _ \n",
            "Adivina una letra: c\n",
            "¡Bien hecho!\n",
            "p r o g r a m a c i o _ \n",
            "Adivina una letra: n\n",
            "¡Bien hecho!\n",
            "p r o g r a m a c i o n \n",
            "🎉 ¡Ganaste! La palabra era: programacion\n"
          ]
        }
      ],
      "source": [
        "import random\n",
        "\n",
        "# --- Funciones ---\n",
        "def escoger_palabra():\n",
        "    \"\"\"Devuelve una palabra aleatoria de una lista.\"\"\"\n",
        "    palabras = [\"python\", \"ahorcado\", \"computador\", \"juego\", \"programacion\"]\n",
        "    return random.choice(palabras)\n",
        "\n",
        "def mostrar_progreso(palabra, letras_adivinadas):\n",
        "    \"\"\"Muestra la palabra con guiones bajos y letras acertadas.\"\"\"\n",
        "    progreso = \"\"\n",
        "    for letra in palabra:\n",
        "        if letra in letras_adivinadas:\n",
        "            progreso += letra + \" \"\n",
        "        else:\n",
        "            progreso += \"_ \"\n",
        "    return progreso\n",
        "\n",
        "def jugar():\n",
        "    \"\"\"Función principal que controla el juego.\"\"\"\n",
        "    palabra = escoger_palabra()\n",
        "    letras_adivinadas = []\n",
        "    intentos = 6  # número de vidas\n",
        "\n",
        "    print(\"¡Bienvenido al juego del Ahorcado!\")\n",
        "    print(mostrar_progreso(palabra, letras_adivinadas))\n",
        "\n",
        "    while intentos > 0:\n",
        "        letra = input(\"Adivina una letra: \").lower()\n",
        "\n",
        "        if letra in letras_adivinadas:\n",
        "            print(\"Ya intentaste esa letra.\")\n",
        "        elif letra in palabra:\n",
        "            letras_adivinadas.append(letra)\n",
        "            print(\"¡Bien hecho!\")\n",
        "        else:\n",
        "            intentos -= 1\n",
        "            print(f\"Letra incorrecta. Te quedan {intentos} intentos.\")\n",
        "\n",
        "        print(mostrar_progreso(palabra, letras_adivinadas))\n",
        "\n",
        "        # Condición de victoria\n",
        "        if all(letra in letras_adivinadas for letra in palabra):\n",
        "            print(\"🎉 ¡Ganaste! La palabra era:\", palabra)\n",
        "            break\n",
        "    else:\n",
        "        print(\"😢 Te quedaste sin intentos. La palabra era:\", palabra)\n",
        "\n",
        "\n",
        "# --- Ejecución ---\n",
        "jugar()\n"
      ]
    }
  ]
}