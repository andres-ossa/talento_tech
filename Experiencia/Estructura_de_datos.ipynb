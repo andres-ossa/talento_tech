{
  "nbformat": 4,
  "nbformat_minor": 0,
  "metadata": {
    "colab": {
      "provenance": []
    },
    "kernelspec": {
      "name": "python3",
      "display_name": "Python 3"
    },
    "language_info": {
      "name": "python"
    }
  },
  "cells": [
    {
      "cell_type": "code",
      "execution_count": 1,
      "metadata": {
        "id": "EsAhqFsQJeQD",
        "outputId": "5f39a52a-0878-4a12-bf95-e8cfe3160168",
        "colab": {
          "base_uri": "https://localhost:8080/"
        }
      },
      "outputs": [
        {
          "output_type": "stream",
          "name": "stdout",
          "text": [
            "Lista:  ['manzana', 'pera', 'uva', 'mango']\n",
            "\n",
            "Tupla:  ('rojo', 'verde', 'azul', 'amarillo')\n",
            " \n",
            "CONJUNTOS -------------------------------------------------------\n",
            "{'perro', 'loro', 'gato', 'conejo'}\n",
            "{'loro', 'tigre', 'águila', 'elefante'}\n",
            " \n",
            "Unión:\n",
            "{'loro', 'tigre', 'conejo', 'gato', 'elefante', 'perro', 'águila'}\n",
            "\n",
            "Intersección:\n",
            "{'loro'}\n",
            "\n",
            "Diferencia (domésticos - salvajes):\n",
            "{'perro', 'gato', 'conejo'}\n",
            "\n",
            "Diferencia (salvajes - domésticos):\n",
            "{'tigre', 'águila', 'elefante'}\n",
            "\n",
            "Diferencia Simétrica:\n",
            "{'tigre', 'conejo', 'gato', 'elefante', 'perro', 'águila'}\n",
            "\n",
            "Diccionario: {'Ana': 4.5, 'Luis': 3.8, 'Carlos': 4.2, 'Marta': 4.9}\n",
            "\n",
            "--- Recorrido de animales domésticos ---\n",
            "Animal doméstico: perro\n",
            "Animal doméstico: loro\n",
            "Animal doméstico: gato\n",
            "Animal doméstico: conejo\n",
            "\n",
            "--- Recorrido de animales salvajes ---\n",
            "Animal salvaje: loro\n",
            "Animal salvaje: tigre\n",
            "Animal salvaje: águila\n",
            "Animal salvaje: elefante\n",
            "\n",
            "\n",
            "  Estudiante  Nota\n",
            "0        Ana   4.5\n",
            "1       Luis   3.8\n",
            "2     Carlos   4.2\n",
            "3      Marta   4.9\n"
          ]
        }
      ],
      "source": [
        "#----------------- Lista  ------------------------------------------------------\n",
        "lista_frutas = [\"manzana\", \"pera\", \"uva\", \"mango\"]\n",
        "print(\"Lista: \", lista_frutas)\n",
        "\n",
        "# -------------------- Tupla ---------------------------------------------------\n",
        "tupla_colores = (\"rojo\", \"verde\", \"azul\", \"amarillo\")\n",
        "print(\"\\nTupla: \", tupla_colores)\n",
        "\n",
        "# ---------------------- Conjuntos --------------------------------------------\n",
        "animales_domesticos = {\"perro\", \"gato\", \"conejo\", \"loro\"}\n",
        "animales_salvajes = {\"tigre\", \"elefante\", \"loro\", \"águila\"}\n",
        "\n",
        "# Operaciones con conjuntos\n",
        "print(\" \\nCONJUNTOS -------------------------------------------------------\")\n",
        "print(animales_domesticos)\n",
        "print(animales_salvajes)\n",
        "\n",
        "print(\" \\nUnión:\")\n",
        "print( animales_domesticos | animales_salvajes)\n",
        "\n",
        "print(\"\\nIntersección:\")\n",
        "print(animales_domesticos & animales_salvajes)\n",
        "\n",
        "print(\"\\nDiferencia (domésticos - salvajes):\")\n",
        "print(animales_domesticos - animales_salvajes)\n",
        "\n",
        "print(\"\\nDiferencia (salvajes - domésticos):\")\n",
        "print( animales_salvajes - animales_domesticos)\n",
        "\n",
        "print(\"\\nDiferencia Simétrica:\")\n",
        "print( animales_domesticos ^ animales_salvajes)\n",
        "\n",
        "\n",
        "# ---------------------- Diccionario ---------------------------------------------\n",
        "diccionario_notas = {\n",
        "    \"Ana\": 4.5,\n",
        "    \"Luis\": 3.8,\n",
        "    \"Carlos\": 4.2,\n",
        "    \"Marta\": 4.9\n",
        "}\n",
        "print(\"\\nDiccionario:\", diccionario_notas)\n",
        "\n",
        "# ----------------------- Recorrer conjuntos con for ---------------------------\n",
        "print(\"\\n--- Recorrido de animales domésticos ---\")\n",
        "for animal in animales_domesticos:\n",
        "    print(\"Animal doméstico:\", animal)\n",
        "\n",
        "print(\"\\n--- Recorrido de animales salvajes ---\")\n",
        "for animal in animales_salvajes:\n",
        "    print(\"Animal salvaje:\", animal)\n",
        "\n",
        "\n",
        "# ------------------------- Diccionario a Dataframe ------------------------------------\n",
        "import pandas as pd\n",
        "print(\"\\n\")\n",
        "df_notas = pd.DataFrame(list(diccionario_notas.items()), columns=[\"Estudiante\", \"Nota\"])\n",
        "print(df_notas)\n"
      ]
    }
  ]
}