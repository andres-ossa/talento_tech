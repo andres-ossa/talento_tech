{
  "nbformat": 4,
  "nbformat_minor": 0,
  "metadata": {
    "colab": {
      "provenance": []
    },
    "kernelspec": {
      "name": "python3",
      "display_name": "Python 3"
    },
    "language_info": {
      "name": "python"
    }
  },
  "cells": [
    {
      "cell_type": "markdown",
      "source": [
        "# Calculadora con funciones"
      ],
      "metadata": {
        "id": "v592DFL-9q78"
      }
    },
    {
      "cell_type": "code",
      "source": [
        "#Importando la libreria/biblioteca de matemáticas de Python:\n",
        "import math\n",
        "\n",
        "#DEFINICION DE LAS FUNCIONES:\n",
        "def mostrar_titulo():\n",
        "  print('Calculadora Sencilla (+,-,*,/)')\n",
        "\n",
        "\n",
        "def mostrar_menu():\n",
        "  print()\n",
        "  print(\"MENU:\")\n",
        "  print(\"1: Sumar (+)\")\n",
        "  print(\"2: Restar (-)\")\n",
        "  print(\"3: Multiplicar (*)\")\n",
        "  print(\"4: Dividir (/)\")\n",
        "  print(\"5: Logaritmo (log10)\")\n",
        "  print(\"6: Coseno (cos)\")\n",
        "  print(\"7: Potenciacion\")\n",
        "  print(\"8: Radicacion\")\n",
        "  print(\"9: sin\")\n",
        "  print(\"10: tan\")\n",
        "  print()\n",
        "\n",
        "\n",
        "def ingresar_datos():\n",
        "  opcion=input(\"Ingrese la opción deseada del menú: \") # la opción se guarda como cadena\n",
        "  numero_uno=float(input('Ingrese el primer número de la operación:'))# guarda como flotante (número real)\n",
        "  numero_dos=float(input('Ingrese el segundo número de la operación:'))# guarda como flotante (número real)\n",
        "  return opcion,numero_uno,numero_dos\n",
        "\n",
        "\n",
        "#POR FACILIDAD, LAS 7 FUNCIONES SIGUIENTES TIENEN ENTRADAS Y SALIDAS\n",
        "def calcular_suma(numero_uno,numero_dos):\n",
        "  suma=numero_uno+numero_dos\n",
        "  return suma\n",
        "\n",
        "def calcular_resta(numero_uno,numero_dos):\n",
        "  return numero_uno-numero_dos\n",
        "\n",
        "def calcular_multiplicacion(numero_uno,numero_dos):\n",
        "  return numero_uno*numero_dos\n",
        "\n",
        "def calcular_division(numero_uno,numero_dos):\n",
        "  return numero_uno/numero_dos\n",
        "\n",
        "def calcular_logaritmo_base10(numero):#x=numero (uno,dos)\n",
        "  #aquí uso la función logaritmo que está dentro de math\n",
        "  logaritmo=math.log10(numero)#x=numero\n",
        "  return logaritmo\n",
        "\n",
        "def calcular_coseno(angulo_radianes):#x=numero (uno,dos): se debe asociar con un angulo que se toma por defecto en radianes (Si está en grados, debe convertirse a radianes=angulo*3.1416/180)\n",
        "  #aquí uso la función coseno que está dentro de math\n",
        "  coseno=math.cos(angulo_radianes)#x=numero (angulo_radianes)\n",
        "  return coseno\n",
        "\n",
        "def calcular_potenciacion(base, exponente):\n",
        "  potenciacion = base ** exponente\n",
        "  return potenciacion\n",
        "\n",
        "\n",
        "def calcular_radicacion(numero, indice_raiz):\n",
        "    if indice_raiz == 0:\n",
        "        return \"Error: No se puede calcular raíz con índice 0\"\n",
        "    return numero ** (1 / indice_raiz)\n",
        "\n",
        "def calcular_seno(angulo_radianes):\n",
        "    return math.sin(angulo_radianes)\n",
        "\n",
        "def calcular_tangente(angulo_radianes):\n",
        "    return math.tan(angulo_radianes)\n",
        "\n",
        "def procesar_y_mostrar_operacion(opcion, numero_uno, numero_dos):\n",
        "    if opcion == '1' or opcion == '+' or opcion.lower() == 'sumar':\n",
        "        print(\"Vamos a sumar(+) los dos valores ingresados:\")\n",
        "        resultado = calcular_suma(numero_uno, numero_dos)\n",
        "        print('La suma es:', resultado)\n",
        "    if opcion == '2' or opcion == '-' or opcion.lower() == 'restar':\n",
        "        print(\"Vamos a restar(-) los dos valores ingresados:\\n\")\n",
        "        resultado = calcular_resta(numero_uno, numero_dos)\n",
        "        print(\"Resultado=\", resultado)\n",
        "    if opcion == '3' or opcion == '*' or opcion.lower() == 'multiplicar':\n",
        "        print(\"Vamos a multiplicar(*) los dos valores ingresados:\\n\")\n",
        "        resultado = calcular_multiplicacion(numero_uno, numero_dos)\n",
        "        print(\"Resultado=\", resultado)\n",
        "    if opcion == '4' or opcion == '/' or opcion.lower() == 'dividir':\n",
        "        print(\"Vamos a dividir(/) los dos valores ingresados:\\n\")\n",
        "        if numero_dos != 0:\n",
        "            resultado = calcular_division(numero_uno, numero_dos)\n",
        "            print(\"Resultado=\", resultado)\n",
        "        else:\n",
        "            print(\"¡No es posible dividir entre cero!\")\n",
        "    if opcion == '5' or opcion.lower() == 'log10' or opcion.lower() == 'logaritmo':\n",
        "        print(\"Vamos a calcular el logaritmo (log10) de los dos valores ingresados:\\n\")\n",
        "        resultado1 = calcular_logaritmo_base10(numero_uno)\n",
        "        resultado2 = calcular_logaritmo_base10(numero_dos)\n",
        "        print(\"Resultado1=\", resultado1)\n",
        "        print(\"Resultado2=\", resultado2)\n",
        "    if opcion == '6' or opcion.lower() == 'cos' or opcion.lower() == 'coseno':\n",
        "        print(\"Vamos a calcular el coseno (cos) de los dos valores ingresados:\\n\")\n",
        "        resultado1 = calcular_coseno(numero_uno)\n",
        "        resultado2 = calcular_coseno(numero_dos)\n",
        "        print(\"Resultado1=\", resultado1)\n",
        "        print(\"Resultado2=\", resultado2)\n",
        "    if opcion == '7' or opcion.lower() == 'potenciacion':\n",
        "        print(\"Vamos a calcular la potenciación:\\n\")\n",
        "        resultado = calcular_potenciacion(numero_uno, numero_dos)\n",
        "        print(\"Resultado=\", resultado)\n",
        "    if opcion == '8' or opcion.lower() == 'radicacion':\n",
        "        print(\"Vamos a calcular la radicación:\\n\")\n",
        "        resultado = calcular_radicacion(numero_uno, numero_dos)\n",
        "        print(\"Resultado=\", resultado)\n",
        "    if opcion == '9' or opcion.lower() == 'sin':\n",
        "        print(\"Vamos a calcular el seno (sin) de los dos valores ingresados:\\n\")\n",
        "        resultado1 = calcular_seno(numero_uno)\n",
        "        resultado2 = calcular_seno(numero_dos)\n",
        "        print(\"Resultado1=\", resultado1)\n",
        "        print(\"Resultado2=\", resultado2)\n",
        "    if opcion == '10' or opcion.lower() == 'tan':\n",
        "        print(\"Vamos a calcular la tangente (tan) de los dos valores ingresados:\\n\")\n",
        "        resultado1 = calcular_tangente(numero_uno)\n",
        "        resultado2 = calcular_tangente(numero_dos)\n",
        "        print(\"Resultado1=\", resultado1)\n",
        "        print(\"Resultado2=\", resultado2)\n",
        "\n",
        "def llamar_funciones():\n",
        "  mostrar_titulo()\n",
        "  mostrar_menu()\n",
        "  opcion,numero_uno,numero_dos=ingresar_datos()\n",
        "  procesar_y_mostrar_operacion(opcion,numero_uno,numero_dos)\n",
        "\n",
        "\n",
        "#EJECUCION DEL PROGRAMA:\n",
        "llamar_funciones()"
      ],
      "metadata": {
        "colab": {
          "base_uri": "https://localhost:8080/"
        },
        "id": "zEljEaT46zdH",
        "outputId": "00bb1e32-6f9b-413b-bdae-ffae71b6807c"
      },
      "execution_count": 1,
      "outputs": [
        {
          "output_type": "stream",
          "name": "stdout",
          "text": [
            "Calculadora Sencilla (+,-,*,/)\n",
            "\n",
            "MENU:\n",
            "1: Sumar (+)\n",
            "2: Restar (-)\n",
            "3: Multiplicar (*)\n",
            "4: Dividir (/)\n",
            "5: Logaritmo (log10)\n",
            "6: Coseno (cos)\n",
            "7: Potenciacion\n",
            "8: Radicacion\n",
            "9: sin\n",
            "10: tan\n",
            "\n",
            "Ingrese la opción deseada del menú: 1\n",
            "Ingrese el primer número de la operación:3\n",
            "Ingrese el segundo número de la operación:8\n",
            "Vamos a sumar(+) los dos valores ingresados:\n",
            "La suma es: 11.0\n"
          ]
        }
      ]
    },
    {
      "cell_type": "code",
      "source": [
        "llamar_funciones()"
      ],
      "metadata": {
        "colab": {
          "base_uri": "https://localhost:8080/"
        },
        "id": "kSvXOY-tlBLz",
        "outputId": "37363d4d-5e41-4e86-9e3a-841bd078cde7"
      },
      "execution_count": 2,
      "outputs": [
        {
          "output_type": "stream",
          "name": "stdout",
          "text": [
            "Calculadora Sencilla (+,-,*,/)\n",
            "\n",
            "MENU:\n",
            "1: Sumar (+)\n",
            "2: Restar (-)\n",
            "3: Multiplicar (*)\n",
            "4: Dividir (/)\n",
            "5: Logaritmo (log10)\n",
            "6: Coseno (cos)\n",
            "7: Potenciacion\n",
            "8: Radicacion\n",
            "9: sin\n",
            "10: tan\n",
            "\n",
            "Ingrese la opción deseada del menú: 2\n",
            "Ingrese el primer número de la operación:40\n",
            "Ingrese el segundo número de la operación:14\n",
            "Vamos a restar(-) los dos valores ingresados:\n",
            "\n",
            "Resultado= 26.0\n"
          ]
        }
      ]
    },
    {
      "cell_type": "code",
      "source": [
        "llamar_funciones()"
      ],
      "metadata": {
        "colab": {
          "base_uri": "https://localhost:8080/"
        },
        "id": "yl5ap9P8lCAq",
        "outputId": "7595a72b-69e0-4129-9989-c543f7dbb9c4"
      },
      "execution_count": 3,
      "outputs": [
        {
          "output_type": "stream",
          "name": "stdout",
          "text": [
            "Calculadora Sencilla (+,-,*,/)\n",
            "\n",
            "MENU:\n",
            "1: Sumar (+)\n",
            "2: Restar (-)\n",
            "3: Multiplicar (*)\n",
            "4: Dividir (/)\n",
            "5: Logaritmo (log10)\n",
            "6: Coseno (cos)\n",
            "7: Potenciacion\n",
            "8: Radicacion\n",
            "9: sin\n",
            "10: tan\n",
            "\n",
            "Ingrese la opción deseada del menú: 3\n",
            "Ingrese el primer número de la operación:3\n",
            "Ingrese el segundo número de la operación:3\n",
            "Vamos a multiplicar(*) los dos valores ingresados:\n",
            "\n",
            "Resultado= 9.0\n"
          ]
        }
      ]
    },
    {
      "cell_type": "code",
      "source": [
        "llamar_funciones()"
      ],
      "metadata": {
        "colab": {
          "base_uri": "https://localhost:8080/"
        },
        "id": "EFVSMK5ElCsU",
        "outputId": "b60f727c-3da6-4593-8b4b-a725edd39cc3"
      },
      "execution_count": 4,
      "outputs": [
        {
          "output_type": "stream",
          "name": "stdout",
          "text": [
            "Calculadora Sencilla (+,-,*,/)\n",
            "\n",
            "MENU:\n",
            "1: Sumar (+)\n",
            "2: Restar (-)\n",
            "3: Multiplicar (*)\n",
            "4: Dividir (/)\n",
            "5: Logaritmo (log10)\n",
            "6: Coseno (cos)\n",
            "7: Potenciacion\n",
            "8: Radicacion\n",
            "9: sin\n",
            "10: tan\n",
            "\n",
            "Ingrese la opción deseada del menú: 4\n",
            "Ingrese el primer número de la operación:50\n",
            "Ingrese el segundo número de la operación:10\n",
            "Vamos a dividir(/) los dos valores ingresados:\n",
            "\n",
            "Resultado= 5.0\n"
          ]
        }
      ]
    },
    {
      "cell_type": "code",
      "source": [
        "llamar_funciones()"
      ],
      "metadata": {
        "colab": {
          "base_uri": "https://localhost:8080/"
        },
        "id": "guuNcSVJlDG2",
        "outputId": "4a6b81a9-6290-4aeb-8677-5c67b7de27f8"
      },
      "execution_count": 5,
      "outputs": [
        {
          "output_type": "stream",
          "name": "stdout",
          "text": [
            "Calculadora Sencilla (+,-,*,/)\n",
            "\n",
            "MENU:\n",
            "1: Sumar (+)\n",
            "2: Restar (-)\n",
            "3: Multiplicar (*)\n",
            "4: Dividir (/)\n",
            "5: Logaritmo (log10)\n",
            "6: Coseno (cos)\n",
            "7: Potenciacion\n",
            "8: Radicacion\n",
            "9: sin\n",
            "10: tan\n",
            "\n",
            "Ingrese la opción deseada del menú: 5\n",
            "Ingrese el primer número de la operación:100\n",
            "Ingrese el segundo número de la operación:10\n",
            "Vamos a calcular el logaritmo (log10) de los dos valores ingresados:\n",
            "\n",
            "Resultado1= 2.0\n",
            "Resultado2= 1.0\n"
          ]
        }
      ]
    },
    {
      "cell_type": "code",
      "source": [
        "llamar_funciones()"
      ],
      "metadata": {
        "colab": {
          "base_uri": "https://localhost:8080/"
        },
        "id": "zISpi7pwlDnu",
        "outputId": "304e9eea-70a7-4947-95fb-e285b212bce2"
      },
      "execution_count": 6,
      "outputs": [
        {
          "output_type": "stream",
          "name": "stdout",
          "text": [
            "Calculadora Sencilla (+,-,*,/)\n",
            "\n",
            "MENU:\n",
            "1: Sumar (+)\n",
            "2: Restar (-)\n",
            "3: Multiplicar (*)\n",
            "4: Dividir (/)\n",
            "5: Logaritmo (log10)\n",
            "6: Coseno (cos)\n",
            "7: Potenciacion\n",
            "8: Radicacion\n",
            "9: sin\n",
            "10: tan\n",
            "\n",
            "Ingrese la opción deseada del menú: 6\n",
            "Ingrese el primer número de la operación:90\n",
            "Ingrese el segundo número de la operación:45\n",
            "Vamos a calcular el coseno (cos) de los dos valores ingresados:\n",
            "\n",
            "Resultado1= -0.4480736161291701\n",
            "Resultado2= 0.5253219888177297\n"
          ]
        }
      ]
    },
    {
      "cell_type": "code",
      "source": [
        "llamar_funciones()"
      ],
      "metadata": {
        "colab": {
          "base_uri": "https://localhost:8080/"
        },
        "id": "NMsy74LKlhyZ",
        "outputId": "83d30c13-2a3d-456d-aa52-3f33089e318b"
      },
      "execution_count": 7,
      "outputs": [
        {
          "output_type": "stream",
          "name": "stdout",
          "text": [
            "Calculadora Sencilla (+,-,*,/)\n",
            "\n",
            "MENU:\n",
            "1: Sumar (+)\n",
            "2: Restar (-)\n",
            "3: Multiplicar (*)\n",
            "4: Dividir (/)\n",
            "5: Logaritmo (log10)\n",
            "6: Coseno (cos)\n",
            "7: Potenciacion\n",
            "8: Radicacion\n",
            "9: sin\n",
            "10: tan\n",
            "\n",
            "Ingrese la opción deseada del menú: 7\n",
            "Ingrese el primer número de la operación:5\n",
            "Ingrese el segundo número de la operación:3\n",
            "Vamos a calcular la potenciación:\n",
            "\n",
            "Resultado= 125.0\n"
          ]
        }
      ]
    },
    {
      "cell_type": "code",
      "source": [
        "llamar_funciones()"
      ],
      "metadata": {
        "colab": {
          "base_uri": "https://localhost:8080/"
        },
        "id": "3u4p5QYEliVp",
        "outputId": "b3e9bf18-d165-48d0-e5b8-8e56cf0002ea"
      },
      "execution_count": 8,
      "outputs": [
        {
          "output_type": "stream",
          "name": "stdout",
          "text": [
            "Calculadora Sencilla (+,-,*,/)\n",
            "\n",
            "MENU:\n",
            "1: Sumar (+)\n",
            "2: Restar (-)\n",
            "3: Multiplicar (*)\n",
            "4: Dividir (/)\n",
            "5: Logaritmo (log10)\n",
            "6: Coseno (cos)\n",
            "7: Potenciacion\n",
            "8: Radicacion\n",
            "9: sin\n",
            "10: tan\n",
            "\n",
            "Ingrese la opción deseada del menú: 8\n",
            "Ingrese el primer número de la operación:9\n",
            "Ingrese el segundo número de la operación:2\n",
            "Vamos a calcular la radicación:\n",
            "\n",
            "Resultado= 3.0\n"
          ]
        }
      ]
    },
    {
      "cell_type": "code",
      "source": [
        "llamar_funciones()"
      ],
      "metadata": {
        "colab": {
          "base_uri": "https://localhost:8080/"
        },
        "id": "1PcaQLBtlitZ",
        "outputId": "f73a387b-2643-43e9-a64a-f3bf4dbe263e"
      },
      "execution_count": 9,
      "outputs": [
        {
          "output_type": "stream",
          "name": "stdout",
          "text": [
            "Calculadora Sencilla (+,-,*,/)\n",
            "\n",
            "MENU:\n",
            "1: Sumar (+)\n",
            "2: Restar (-)\n",
            "3: Multiplicar (*)\n",
            "4: Dividir (/)\n",
            "5: Logaritmo (log10)\n",
            "6: Coseno (cos)\n",
            "7: Potenciacion\n",
            "8: Radicacion\n",
            "9: sin\n",
            "10: tan\n",
            "\n",
            "Ingrese la opción deseada del menú: 9\n",
            "Ingrese el primer número de la operación:45\n",
            "Ingrese el segundo número de la operación:90\n",
            "Vamos a calcular el seno (sin) de los dos valores ingresados:\n",
            "\n",
            "Resultado1= 0.8509035245341184\n",
            "Resultado2= 0.8939966636005579\n"
          ]
        }
      ]
    },
    {
      "cell_type": "code",
      "source": [
        "llamar_funciones()"
      ],
      "metadata": {
        "colab": {
          "base_uri": "https://localhost:8080/"
        },
        "id": "5yCiNoajljDQ",
        "outputId": "84d6e086-940f-42c1-ceb6-b090f274dbdf"
      },
      "execution_count": 10,
      "outputs": [
        {
          "output_type": "stream",
          "name": "stdout",
          "text": [
            "Calculadora Sencilla (+,-,*,/)\n",
            "\n",
            "MENU:\n",
            "1: Sumar (+)\n",
            "2: Restar (-)\n",
            "3: Multiplicar (*)\n",
            "4: Dividir (/)\n",
            "5: Logaritmo (log10)\n",
            "6: Coseno (cos)\n",
            "7: Potenciacion\n",
            "8: Radicacion\n",
            "9: sin\n",
            "10: tan\n",
            "\n",
            "Ingrese la opción deseada del menú: 10\n",
            "Ingrese el primer número de la operación:45\n",
            "Ingrese el segundo número de la operación:90\n",
            "Vamos a calcular la tangente (tan) de los dos valores ingresados:\n",
            "\n",
            "Resultado1= 1.6197751905438615\n",
            "Resultado2= -1.995200412208242\n"
          ]
        }
      ]
    }
  ]
}